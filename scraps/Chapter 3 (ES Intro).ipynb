{
 "metadata": {
  "name": ""
 },
 "nbformat": 3,
 "nbformat_minor": 0,
 "worksheets": [
  {
   "cells": [
    {
     "cell_type": "code",
     "collapsed": false,
     "input": [
      "import requests\n",
      "import json\n",
      "import os\n",
      "import pickle\n",
      "    \n",
      "elasticSearchUrl = \"http://es:9200\"\n",
      "\n",
      "tmdb_api_key = os.environ[\"TMDB_API_KEY\"]\n",
      "\n",
      "import requests\n",
      "http = requests.Session()\n",
      "http.params={'api_key': tmdb_api_key}\n",
      "\n",
      "es = requests.Session();\n",
      "\n",
      "# POSSIBLE SEARCHES\n",
      "# most popular (don't know what popular means though): https://api.themoviedb.org/3/discover/movie?api_key=ae700a17fe68acb1deb66c34b41c174f&sort_by=popularity.desc\n",
      "# movies sorted by vote (instead of popularity) with a vote count above 100 https://api.themoviedb.org/3/discover/movie?api_key=ae700a17fe68acb1deb66c34b41c174f&sort_by=vote_average.desc&vote_count.gte=100\n",
      "# \"best\" movies released in the past 5 years: https://api.themoviedb.org/3/discover/movie?api_key=ae700a17fe68acb1deb66c34b41c174f&sort_by=vote_average.desc&vote_count.gte=100&primary_release_year.gte=2009\n",
      "# * most voted upon (good way to get movies that everyone will know but which will include good and bad movies) https://api.themoviedb.org/3/discover/movie?api_key=ae700a17fe68acb1deb66c34b41c174f&sort_by=vote_count.desc&vote_count.gte=100\n",
      "# most popular kids movies https://api.themoviedb.org/3/discover/movie?api_key=ae700a17fe68acb1deb66c34b41c174f&sort_by=vote_count.desc&certification_country=US&certification.lte=G\n",
      "# highest revenues https://api.themoviedb.org/3/discover/movie?api_key=ae700a17fe68acb1deb66c34b41c174f&sort_by=revenue.desc\n",
      "\n",
      "# movie example ids [24428, 27205, 19995, 155, 68721, 70160, 68718, 49051, 49026, 37724]\n",
      "# person id 3223\n",
      "\n",
      "# Other searches\n",
      "# All people associated with a movie curl \"https://api.themoviedb.org/3/movie/24428/credits?api_key=ae700a17fe68acb1deb66c34b41c174f\" | jq '.[\"cast\"][][\"name\"]'"
     ],
     "language": "python",
     "metadata": {},
     "outputs": [],
     "prompt_number": 2
    },
    {
     "cell_type": "heading",
     "level": 1,
     "metadata": {},
     "source": [
      "Elasticsearch!"
     ]
    },
    {
     "cell_type": "markdown",
     "metadata": {},
     "source": [
      "For our search engine, we'll be using Elasticsearch. Elasticsearch is a modern Lucene-based search engine with an emphasis on ease of use. In the previous chapter, you were introduced to the basic processes, data structures, and components of a Lucene-based search engine. Though considered extremely mature, Lucene is it's still a fairly advanced Java library. Working directly with Lucene (1) requires you to code in Java (2) tends to require a great deal of verbosity and (3) trips up beginners with many of the low-level concerns. For this reason, Elasticsearch works hard to wrap Lucene's features in a RESTful interface that focusses on providing sane conventions for search applications.\n",
      "\n",
      "It's important to note this book is not about Elasticsearch. Elasticsearch is simply our example search engine for exploring relevance. For this reason, we do not attempt to be comprehensive. Further, we'll move through the search engine in vertical slices -- starting right away with a fully-functioning search implementation. If you're curious to explore more about any component in Elasticsearch, there are many great books written. The project itself provides great documentation at http://elasticsearch.org. "
     ]
    },
    {
     "cell_type": "heading",
     "level": 1,
     "metadata": {},
     "source": [
      "TMDB"
     ]
    },
    {
     "cell_type": "markdown",
     "metadata": {},
     "source": [
      "For this chapter, we'll be using \"The Movie Database\" (TMDB) as our data set. TMDB is a popular online movie and tv-show database. We're excited about this data set as it contains several components many search applications need to deal with. These include\n",
      "\n",
      "1. Longer text features -- the text within synopsis, and user reviews\n",
      "2. Shorter text features -- director and actor names, titles, etc\n",
      "3. Numerical Quality Features -- user ratings, movie revenue, awards like Oscar \n",
      "4. Other features often important to search -- movie release dates, etc\n",
      "\n",
      "We'll be using TMDB through it's API. Usage of the API requires a key which can be acquired at the TMDB website. If you'd like to follow long with the examples, please obtain a key.\n",
      "\n",
      "## Organization of the TMDB API\n",
      "\n",
      "The TMDB API is organized around a series of endpoints that list information about movies, such as '/movies/popular' (list of movies by popularity) or '/movies/top_rated/' (list of movies by top rated). This is really just a starting point, after we snag a series of movies we want to search, we'll grab deeper information from each movie from endpoints such as `/movie/{id}/reviews` to get each review. Further, many of these endpoints contain lists that return 20 items a piece. We may need to pass a page parameter to page through the response."
     ]
    },
    {
     "cell_type": "heading",
     "level": 1,
     "metadata": {},
     "source": [
      "Python"
     ]
    },
    {
     "cell_type": "markdown",
     "metadata": {},
     "source": [
      "Our examples will be composed in Python. Why Python? Python is a highly-readable imperative language that looks and feels like psuedocode. You don't need to know Python to follow along (just pretend we're writing psuedocode). We're not doing anything fancy with the language, so these examples should still be easy to follow along. Another thing to note is we'll omit a fair amount of boilerplate error checking. This is important stuff! But our focus is on teaching the nitty-gritty of search relevance -- not exploring a robust programming solution. We also don't rely on any of the excellent Elasticsearch clients out there in order to keep things simple. If you're building a real Elasticsearch application, be sure to explore the great client libraries out there!\n",
      "\n",
      "You'll be able to explore this code at our github repository in more detail."
     ]
    },
    {
     "cell_type": "heading",
     "level": 1,
     "metadata": {},
     "source": [
      "Enough Talk, Let's Search!"
     ]
    },
    {
     "cell_type": "markdown",
     "metadata": {},
     "source": [
      "A great deal of search relevance revolves around text features. To get started, we're going to index a few pieces of text about popular movies into Elasticsearch. We'll do this by accessing the TMDB movies endpoint, issuing a GET request and indexing the title, overview, and title. In this first example, we'll try to be a bit more verbose about what we're doing, commenting carefully as we move forward. \n",
      "\n",
      "Like we said before, first we'll snag the ids of some popular movies:"
     ]
    },
    {
     "cell_type": "code",
     "collapsed": false,
     "input": [
      "httpResp = http.get('https://api.themoviedb.org/3/movie/top_rated')  #(1)\n",
      "jsonResponse = json.loads(httpResp.text) #(2)\n",
      "movies = jsonResponse['results']\n",
      "movieIds = [];\n",
      "for movie in movies:\n",
      "    movieIds.append(movie['id'])"
     ],
     "language": "python",
     "metadata": {},
     "outputs": [],
     "prompt_number": 81
    },
    {
     "cell_type": "markdown",
     "metadata": {},
     "source": [
      "In the listing above, at line 1 we issue a GET request to the TMDB API. We pass our api key as a URL parameter. In the next line,we parse the HTTP text body, loading the JSON body into a Python dictionary. The entry \"results\" contains the meat of the response, holding each movie for us to work with. The subsequent loop simply builds a list of ids.\n",
      "\n",
      "Next, we'll extract more text-based features about movies "
     ]
    },
    {
     "cell_type": "code",
     "collapsed": false,
     "input": [
      "movieDict = {}\n",
      "for movieId in movieIds:\n",
      "    httpResp = http.get(\"https://api.themoviedb.org/3/movie/%s\" % movieId)\n",
      "    movie = json.loads(httpResp.text)\n",
      "    for genreObj in movie['genres']:\n",
      "        genreList.append(genreObj['name'])\n",
      "    movie['genres'] = genreList;\n",
      "    movieDict[movieId] = movie"
     ],
     "language": "python",
     "metadata": {},
     "outputs": [],
     "prompt_number": 85
    },
    {
     "cell_type": "markdown",
     "metadata": {},
     "source": [
      "In this listing, we take our list of ids and retrieve details about each movie. We now have a bunch of information on each movie, contained within movieDict. This includes details such as the movie's title, an overview, and a tagline. One bit of dirty business to simplify our search operation is the genre field. We take a complex object, and pull out the name for the genre -- ommiting other details. \n",
      "\n",
      "Now with some interesting fields, we will index these documents into Elasticsearch using the bulk index API. Elasticsearch has several ways to index documents. We'll predominantly use the bulk index API that allows us to efficiently index multiple documents at the same time. The important thing to note about the bulk API is the format is a bit pecuilar, it takes the form\n",
      "\n",
      "    {JSON COMMAND} <newline>\n",
      "    {document} \n",
      "\n",
      "So below, we build up multiple JSON documents, each on its own line preparing the documents for the bulk API:"
     ]
    },
    {
     "cell_type": "code",
     "collapsed": false,
     "input": [
      "bulkMovies = \"\"\n",
      "for id, movie in movieDict.iteritems():\n",
      "    addCmd = {\"index\": {\"_index\": \"tmdb\", \"_type\": \"movie\", \"_id\": movie[\"id\"]}}\n",
      "    esDoc  = {\"title\": movie['title'], \"genres\": movie['genres'],\n",
      "               'overview': movie['overview'], 'tagline': movie['tagline']}\n",
      "    bulkMovies += json.dumps(addCmd) + \"\\n\" + json.dumps(esDoc) + \"\\n\"\n",
      "    \n",
      "requests.post(elasticSearchUrl + \"/_bulk\", data=bulkMovies)"
     ],
     "language": "python",
     "metadata": {},
     "outputs": [
      {
       "metadata": {},
       "output_type": "pyout",
       "prompt_number": 86,
       "text": [
        "<Response [200]>"
       ]
      }
     ],
     "prompt_number": 86
    },
    {
     "cell_type": "markdown",
     "metadata": {},
     "source": [
      "Congratulations! We've built our first ETL pipeline. Here we've \n",
      "\n",
      "1. extracted information from an external, \n",
      "2. transformed the data into a form amenible to the search engine, and\n",
      "3. indexed the data into Elasticsearch\n",
      "\n",
      "Further, in the commands above by telling Elasticsearch about `_index: tmdb` and `_type: movie`, we've created both an index (synonomous with a database) and a type of documents (movies). \n",
      "\n",
      "Now we can search! For our movie application, we've got to figure out how to respond to user searches in our search bar by issuing queries to Elasticsearch using its Query DSL. Elasticsearch's Query DSL uses a JSON format to tell Elasticsearch exactly how to search results.\n",
      "\n",
      "Trying to think through how we can build a relevant search experience, we'll just start course with a search over all the available fields:"
     ]
    },
    {
     "cell_type": "code",
     "collapsed": false,
     "input": [
      "search = {\n",
      "    'query': {\n",
      "        'match': { \n",
      "            '_all': 'drama'\n",
      "        }\n",
      "    }\n",
      "}\n",
      "httpResp = requests.get(elasticSearchUrl + '/tmdb/movie/_search', data=json.dumps(search))\n",
      "searchHits = json.loads(httpResp.text)['hits']\n",
      "searchHits"
     ],
     "language": "python",
     "metadata": {},
     "outputs": [
      {
       "metadata": {},
       "output_type": "pyout",
       "prompt_number": 87,
       "text": [
        "{u'hits': [{u'_id': u'244786',\n",
        "   u'_index': u'tmdb',\n",
        "   u'_score': 0.24368995,\n",
        "   u'_source': {u'genres': [{u'id': 18, u'name': u'Drama'},\n",
        "     {u'id': 10402, u'name': u'Music'}],\n",
        "    u'overview': u'Under the direction of a ruthless instructor, a talented young drummer begins to pursue perfection at any cost, even his humanity.',\n",
        "    u'tagline': u'The road to greatness can take you to the edge.',\n",
        "    u'title': u'Whiplash'},\n",
        "   u'_type': u'movie'},\n",
        "  {u'_id': u'157336',\n",
        "   u'_index': u'tmdb',\n",
        "   u'_score': 0.19495197,\n",
        "   u'_source': {u'genres': [{u'id': 18, u'name': u'Drama'},\n",
        "     {u'id': 878, u'name': u'Science Fiction'}],\n",
        "    u'overview': u'Interstellar chronicles the adventures of a group of explorers who make use of a newly discovered wormhole to surpass the limitations on human space travel and conquer the vast distances involved in an interstellar voyage.',\n",
        "    u'tagline': u'Mankind was born on Earth. It was never meant to die here.',\n",
        "    u'title': u'Interstellar'},\n",
        "   u'_type': u'movie'},\n",
        "  {u'_id': u'169813',\n",
        "   u'_index': u'tmdb',\n",
        "   u'_score': 0.19111618,\n",
        "   u'_source': {u'genres': [{u'id': 18, u'name': u'Drama'}],\n",
        "    u'overview': u'A 20-something supervising staff member of a residential treatment facility navigates the troubled waters of that world alongside her co-worker and longtime boyfriend.',\n",
        "    u'tagline': u'',\n",
        "    u'title': u'Short Term 12'},\n",
        "   u'_type': u'movie'},\n",
        "  {u'_id': u'304410',\n",
        "   u'_index': u'tmdb',\n",
        "   u'_score': 0.17058297,\n",
        "   u'_source': {u'genres': [{u'id': 35, u'name': u'Comedy'},\n",
        "     {u'id': 18, u'name': u'Drama'}],\n",
        "    u'overview': u\"The whole B\\xe9lier family is deaf, except for sixteen year old Paula who is the important translator in her parents' day to day life especially when it comes to matters concerning the family farm. When her music teacher discovers she has a fantastic singing voice and she gets an opportunity to enter a big Radio France contest the whole family's future is set up for big changes.\",\n",
        "    u'tagline': u'',\n",
        "    u'title': u'La Famille B\\xe9lier'},\n",
        "   u'_type': u'movie'},\n",
        "  {u'_id': u'46738',\n",
        "   u'_index': u'tmdb',\n",
        "   u'_score': 0.13378133,\n",
        "   u'_source': {u'genres': [{u'id': 18, u'name': u'Drama'},\n",
        "     {u'id': 9648, u'name': u'Mystery'},\n",
        "     {u'id': 10752, u'name': u'War'}],\n",
        "    u'overview': u\"A mother's last wishes send twins Jeanne and Simon on a journey to Middle East in search of their tangled roots. Adapted from Wajdi Mouawad's acclaimed play, Incendies tells the powerful and moving tale of two young adults' voyage to the core of deep-rooted hatred, never-ending wars and enduring love.\",\n",
        "    u'tagline': u\"The search began at the opening of their mother's will.\",\n",
        "    u'title': u'Incendies'},\n",
        "   u'_type': u'movie'},\n",
        "  {u'_id': u'422',\n",
        "   u'_index': u'tmdb',\n",
        "   u'_score': 0.125,\n",
        "   u'_source': {u'genres': [{u'id': 18, u'name': u'Drama'},\n",
        "     {u'id': 14, u'name': u'Fantasy'}],\n",
        "    u'overview': u'With 8 \\xbd Frederico Fellini leaves a self-portrait where dreams and reality are a mix. With help from a most excellent cast and unique scenery this self reflecting film is one of his master works.',\n",
        "    u'tagline': u'A picture that goes beyond what men think about - because no man ever thought about it in quite this way!',\n",
        "    u'title': u'8\\xbd'},\n",
        "   u'_type': u'movie'},\n",
        "  {u'_id': u'278',\n",
        "   u'_index': u'tmdb',\n",
        "   u'_score': 0.11466971,\n",
        "   u'_source': {u'genres': [{u'id': 80, u'name': u'Crime'},\n",
        "     {u'id': 18, u'name': u'Drama'}],\n",
        "    u'overview': u'Framed in the 1940s for the double murder of his wife and her lover, upstanding banker Andy Dufresne begins a new life at the Shawshank prison, where he puts his accounting skills to work for an amoral warden. During his long stretch in prison, Dufresne comes to be admired by the other inmates -- including an older prisoner named Red -- for his integrity and unquenchable sense of hope.',\n",
        "    u'tagline': u'Fear can hold you prisoner. Hope can set you free.',\n",
        "    u'title': u'The Shawshank Redemption'},\n",
        "   u'_type': u'movie'},\n",
        "  {u'_id': u'389',\n",
        "   u'_index': u'tmdb',\n",
        "   u'_score': 0.110181056,\n",
        "   u'_source': {u'genres': [{u'id': 18, u'name': u'Drama'}],\n",
        "    u'overview': u\"The defense and the prosecution have rested and the jury is filing into the jury room to decide if a young Spanish-American is guilty or innocent of murdering his father. What begins as an open and shut case soon becomes a mini-drama of each of the jurors' prejudices and preconceptions about the trial, the accused, and each other.\",\n",
        "    u'tagline': u'Life is in their hands. Death is on their minds.',\n",
        "    u'title': u'12 Angry Men'},\n",
        "   u'_type': u'movie'},\n",
        "  {u'_id': u'222935',\n",
        "   u'_index': u'tmdb',\n",
        "   u'_score': 0.08903974,\n",
        "   u'_source': {u'genres': [{u'id': 18, u'name': u'Drama'},\n",
        "     {u'id': 10749, u'name': u'Romance'}],\n",
        "    u'overview': u\"Despite the tumor-shrinking medical miracle that has bought her a few years, Hazel has never been anything but terminal, her final chapter inscribed upon diagnosis. But when a patient named Augustus Waters suddenly appears at Cancer Kid Support Group, Hazel's story is about to be completely rewritten.\",\n",
        "    u'tagline': u'One Sick Love Story',\n",
        "    u'title': u'The Fault in Our Stars'},\n",
        "   u'_type': u'movie'},\n",
        "  {u'_id': u'346',\n",
        "   u'_index': u'tmdb',\n",
        "   u'_score': 0.077909775,\n",
        "   u'_source': {u'genres': [{u'id': 28, u'name': u'Action'},\n",
        "     {u'id': 18, u'name': u'Drama'}],\n",
        "    u'overview': u\"A veteran samurai, who has fallen on hard times, answers a village's request for protection from bandits. He gathers 6 other samurai to help him, and they teach the townspeople how to defend themselves, and they supply the samurai with three small meals a day. The film culminates in a giant battle when 40 bandits attack the village.\",\n",
        "    u'tagline': u'Will Take Its Place With the Seven Greatest Films of All Time!',\n",
        "    u'title': u'Seven Samurai'},\n",
        "   u'_type': u'movie'}],\n",
        " u'max_score': 0.24368995,\n",
        " u'total': 13}"
       ]
      }
     ],
     "prompt_number": 87
    },
    {
     "cell_type": "code",
     "collapsed": false,
     "input": [],
     "language": "python",
     "metadata": {},
     "outputs": []
    }
   ],
   "metadata": {}
  }
 ]
}