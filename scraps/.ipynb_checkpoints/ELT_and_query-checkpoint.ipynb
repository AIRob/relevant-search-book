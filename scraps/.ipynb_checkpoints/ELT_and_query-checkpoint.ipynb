{
 "metadata": {
  "name": ""
 },
 "nbformat": 3,
 "nbformat_minor": 0,
 "worksheets": [
  {
   "cells": [
    {
     "cell_type": "markdown",
     "metadata": {},
     "source": [
      "#Setup"
     ]
    },
    {
     "cell_type": "code",
     "collapsed": false,
     "input": [
      "import requests\n",
      "import json\n",
      "import os\n",
      "import pickle\n",
      "    \n",
      "elasticSearchUrl = \"http://es:9200\"\n",
      "\n",
      "tmdb_api_key = os.environ[\"TMDB_API_KEY\"]\n",
      "\n",
      "# POSSIBLE SEARCHES\n",
      "# most popular (don't know what popular means though): https://api.themoviedb.org/3/discover/movie?api_key=ae700a17fe68acb1deb66c34b41c174f&sort_by=popularity.desc\n",
      "# movies sorted by vote (instead of popularity) with a vote count above 100 https://api.themoviedb.org/3/discover/movie?api_key=ae700a17fe68acb1deb66c34b41c174f&sort_by=vote_average.desc&vote_count.gte=100\n",
      "# \"best\" movies released in the past 5 years: https://api.themoviedb.org/3/discover/movie?api_key=ae700a17fe68acb1deb66c34b41c174f&sort_by=vote_average.desc&vote_count.gte=100&primary_release_year.gte=2009\n",
      "# most voted upon (good way to get movies that everyone will know but which will include good and bad movies) https://api.themoviedb.org/3/discover/movie?api_key=ae700a17fe68acb1deb66c34b41c174f&sort_by=vote_count.desc&vote_count.gte=100\n",
      "# most popular kids movies https://api.themoviedb.org/3/discover/movie?api_key=ae700a17fe68acb1deb66c34b41c174f&sort_by=vote_count.desc&certification_country=US&certification.lte=G\n",
      "# highest revenues https://api.themoviedb.org/3/discover/movie?api_key=ae700a17fe68acb1deb66c34b41c174f&sort_by=revenue.desc\n"
     ],
     "language": "python",
     "metadata": {},
     "outputs": [],
     "prompt_number": 11
    },
    {
     "cell_type": "markdown",
     "metadata": {},
     "source": [
      "#Extraction"
     ]
    },
    {
     "cell_type": "code",
     "collapsed": false,
     "input": [
      "#scoop together the first num_pages of popular movie ids\n",
      "num_pages = 20\n",
      "ids = []\n",
      "for page in xrange(num_pages):\n",
      "    r = requests.get(\"https://api.themoviedb.org/3/discover/movie?\"\n",
      "                     + \"api_key={0}&\".format(tmdb_api_key)\n",
      "                     + \"sort_by=popularity.desc&\"\n",
      "                     + \"page={0}\".format(page+1))\n",
      "    ids.extend([mov[\"id\"] for mov in r.json()[\"results\"]])\n",
      "\n",
      "\"Found {0} ids\".format(len(set(ids)))\n"
     ],
     "language": "python",
     "metadata": {},
     "outputs": [
      {
       "metadata": {},
       "output_type": "pyout",
       "prompt_number": 12,
       "text": [
        "'Found 400 ids'"
       ]
      }
     ],
     "prompt_number": 12
    },
    {
     "cell_type": "code",
     "collapsed": false,
     "input": [
      "# get movies from ids (setup)\n",
      "movies = []\n",
      "start_index = 0 #just in case anything interrupts us"
     ],
     "language": "python",
     "metadata": {},
     "outputs": [],
     "prompt_number": 13
    },
    {
     "cell_type": "code",
     "collapsed": false,
     "input": [
      "# get movies from ids (execute)\n",
      "#   if this fails then at least it saves the index where it left off\n",
      "for index, id in enumerate(ids[start_index:]):\n",
      "    try:\n",
      "        r = requests.get(\"https://api.themoviedb.org/3/movie/{0}?\".format(id)\n",
      "                     + \"api_key={0}&\".format(tmdb_api_key))\n",
      "        movies.append(r.json())\n",
      "    except Exception, e:\n",
      "        print e\n",
      "        break\n",
      "    \n",
      "print \"got to index {0}\".format(index)\n",
      "start_index = index"
     ],
     "language": "python",
     "metadata": {},
     "outputs": [
      {
       "output_type": "stream",
       "stream": "stdout",
       "text": [
        "got to index 399\n"
       ]
      }
     ],
     "prompt_number": 14
    },
    {
     "cell_type": "markdown",
     "metadata": {},
     "source": [
      "#Enrichment"
     ]
    },
    {
     "cell_type": "code",
     "collapsed": false,
     "input": [
      "# enrichment?: maybe join in keywords and actors\n",
      "# enrichment might be a good guise for getting interesting data like people's names"
     ],
     "language": "python",
     "metadata": {},
     "outputs": [
      {
       "metadata": {},
       "output_type": "pyout",
       "prompt_number": 113,
       "text": [
        "199"
       ]
      }
     ],
     "prompt_number": 113
    },
    {
     "cell_type": "markdown",
     "metadata": {},
     "source": [
      "###(store for convenience)"
     ]
    },
    {
     "cell_type": "code",
     "collapsed": false,
     "input": [
      "# save the movies so that you don't have to pull them all down each time\n",
      "pickle.dump(movies,open(\"movies.p\",\"wb\"))"
     ],
     "language": "python",
     "metadata": {},
     "outputs": [],
     "prompt_number": 15
    },
    {
     "cell_type": "code",
     "collapsed": false,
     "input": [
      "# load from saved movie set\n",
      "movies = pickle.load(open(\"movies.p\",\"rb\"))"
     ],
     "language": "python",
     "metadata": {},
     "outputs": [],
     "prompt_number": 16
    },
    {
     "cell_type": "markdown",
     "metadata": {},
     "source": [
      "#Transform"
     ]
    },
    {
     "cell_type": "code",
     "collapsed": false,
     "input": [
      "# transformation: make it ammenable to ES\n",
      "batch_size = 12\n",
      "num_batches = len(movies)/batch_size\n",
      "if len(movies)%batch_size != 0:\n",
      "    #then there's an additional partial batch to account for\n",
      "    num_batches += 1    \n",
      "\n",
      "batches = []\n",
      "for batch_num in xrange(num_batches):\n",
      "    movs = movies[batch_num*batch_size:(batch_num+1)*batch_size]\n",
      "    json_docs = []\n",
      "    for mov in movs:\n",
      "        addCmd = {\"index\": {\"_index\": \"tmdb\", \"_type\": \"movie\", \"_id\": mov[\"id\"]}}\n",
      "        json_docs.append(json.dumps(addCmd))\n",
      "        json_docs.append(json.dumps(mov))\n",
      "    batches.append(\"\\n\".join(json_docs)+\"\\n\")"
     ],
     "language": "python",
     "metadata": {},
     "outputs": [],
     "prompt_number": 18
    },
    {
     "cell_type": "markdown",
     "metadata": {},
     "source": [
      "#Index"
     ]
    },
    {
     "cell_type": "code",
     "collapsed": false,
     "input": [
      "#set up index (analysis and mapping)"
     ],
     "language": "python",
     "metadata": {},
     "outputs": [],
     "prompt_number": 19
    },
    {
     "cell_type": "code",
     "collapsed": false,
     "input": [
      "#index \n",
      "for batch in batches:\n",
      "    r = requests.post(elasticSearchUrl + \"/_bulk\", data=batch)\n"
     ],
     "language": "python",
     "metadata": {},
     "outputs": [],
     "prompt_number": 38
    },
    {
     "cell_type": "code",
     "collapsed": false,
     "input": [
      "[len(b.split(\"\\n\"))/2 for b in batches]"
     ],
     "language": "python",
     "metadata": {},
     "outputs": [
      {
       "metadata": {},
       "output_type": "pyout",
       "prompt_number": 36,
       "text": [
        "[12,\n",
        " 12,\n",
        " 12,\n",
        " 12,\n",
        " 12,\n",
        " 12,\n",
        " 12,\n",
        " 12,\n",
        " 12,\n",
        " 12,\n",
        " 12,\n",
        " 12,\n",
        " 12,\n",
        " 12,\n",
        " 12,\n",
        " 12,\n",
        " 12,\n",
        " 12,\n",
        " 12,\n",
        " 12,\n",
        " 12,\n",
        " 12,\n",
        " 12,\n",
        " 12,\n",
        " 12,\n",
        " 12,\n",
        " 12,\n",
        " 12,\n",
        " 12,\n",
        " 12,\n",
        " 12,\n",
        " 12,\n",
        " 12,\n",
        " 4]"
       ]
      }
     ],
     "prompt_number": 36
    },
    {
     "cell_type": "code",
     "collapsed": false,
     "input": [
      "len(batches)"
     ],
     "language": "python",
     "metadata": {},
     "outputs": [
      {
       "metadata": {},
       "output_type": "pyout",
       "prompt_number": 39,
       "text": [
        "34"
       ]
      }
     ],
     "prompt_number": 39
    },
    {
     "cell_type": "code",
     "collapsed": false,
     "input": [],
     "language": "python",
     "metadata": {},
     "outputs": []
    }
   ],
   "metadata": {}
  }
 ]
}