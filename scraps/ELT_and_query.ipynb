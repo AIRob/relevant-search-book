{
 "metadata": {
  "name": ""
 },
 "nbformat": 3,
 "nbformat_minor": 0,
 "worksheets": [
  {
   "cells": [
    {
     "cell_type": "code",
     "collapsed": false,
     "input": [
      "#TODO\n",
      "# make simple TMDb client so that we can `get(\"movie/189\")` it returns JSON and we don't have to worry about the API key"
     ],
     "language": "python",
     "metadata": {},
     "outputs": []
    },
    {
     "cell_type": "code",
     "collapsed": false,
     "input": [
      "#setup\n",
      "import requests\n",
      "import json\n",
      "\n",
      "elasticSearchIp = \"http://192.168.12.5:9200\"\n",
      "\n",
      "api_key = \"ae700a17fe68acb1deb66c34b41c174f\""
     ],
     "language": "python",
     "metadata": {},
     "outputs": [],
     "prompt_number": 42
    },
    {
     "cell_type": "code",
     "collapsed": false,
     "input": [
      "#scoop together the first num_pages of popular movie ids\n",
      "num_pages = 2\n",
      "ids = []\n",
      "for page in xrange(num_pages):\n",
      "    r = requests.get(\"https://api.themoviedb.org/3/discover/movie?\"\n",
      "                     + \"api_key={0}&\".format(api_key)\n",
      "                     + \"sort_by=popularity.desc&\"\n",
      "                     + \"page={0}\".format(page+1))\n",
      "    ids.extend([mov[\"id\"] for mov in r.json()[\"results\"]])\n",
      "\n",
      "\"Found {0} ids\".format(len(set(ids)))\n"
     ],
     "language": "python",
     "metadata": {},
     "outputs": [
      {
       "metadata": {},
       "output_type": "pyout",
       "prompt_number": 52,
       "text": [
        "'Found 40 ids'"
       ]
      }
     ],
     "prompt_number": 52
    },
    {
     "cell_type": "code",
     "collapsed": false,
     "input": [
      "# extraction: get movies from ids\n",
      "movies = []\n",
      "for id in ids:\n",
      "    r = requests.get(\"https://api.themoviedb.org/3/movie/{0}?\".format(id)\n",
      "                     + \"api_key={0}&\".format(api_key))\n",
      "    movies.append(r.json())"
     ],
     "language": "python",
     "metadata": {},
     "outputs": [],
     "prompt_number": 53
    },
    {
     "cell_type": "code",
     "collapsed": false,
     "input": [
      "# enrichment?: maybe join in keywords and actors\n",
      "# enrichment might be a good guise for getting interesting data like people's names"
     ],
     "language": "python",
     "metadata": {},
     "outputs": [],
     "prompt_number": 54
    },
    {
     "cell_type": "code",
     "collapsed": false,
     "input": [
      "# transformation: make it ammenable to ES\n",
      "batch_size = 12\n",
      "movs = []\n",
      "for batch_num in xrange(len(movies)/batch_size):\n",
      "    batch = movies[batch_num*batch_size:(batch_num+1)*batch_size]\n",
      "    json_docs = []\n",
      "    for mov in batch:\n",
      "        movs.append(mov[\"id\"])\n",
      "        addCmd = {\"index\": {\"_index\": \"tmdb\", \"_type\": \"movie\", \"_id\": mov[\"id\"]}}\n",
      "        json_docs.append(json.dumps(addCmd))\n",
      "        json_docs.append(json.dumps(mov))\n",
      "    json_batch = \"\\n\".join(json_docs)\n",
      "    r = requests.post(elasticSearchIp + \"/_bulk\", data=json_batch)\n",
      "print len(set(movs))"
     ],
     "language": "python",
     "metadata": {},
     "outputs": [
      {
       "output_type": "stream",
       "stream": "stdout",
       "text": [
        "36\n"
       ]
      }
     ],
     "prompt_number": 55
    },
    {
     "cell_type": "code",
     "collapsed": false,
     "input": [],
     "language": "python",
     "metadata": {},
     "outputs": []
    }
   ],
   "metadata": {}
  }
 ]
}