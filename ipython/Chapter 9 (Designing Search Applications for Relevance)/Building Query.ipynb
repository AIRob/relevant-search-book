{
 "cells": [
  {
   "cell_type": "code",
   "execution_count": 501,
   "metadata": {
    "collapsed": false
   },
   "outputs": [],
   "source": [
    "from pprint import pprint \n",
    "\n",
    "from elasticsearch import Elasticsearch\n",
    "\n",
    "es = Elasticsearch()\n",
    "\n",
    "# names\n",
    "yowl = 'yowl'\n",
    "restaurant = 'restaurant'\n",
    "\n",
    "location = 'location'\n",
    "name = 'name'\n",
    "cuisine_high_q = 'cuisine_high_q'\n",
    "cuisine_low_q = 'cuisine_low_q'\n",
    "menu = 'menu'\n",
    "description = 'description'\n",
    "price = 'price'\n",
    "rating = 'rating'\n",
    "has_discount = 'has_discount'\n",
    "promoted = 'promoted'\n",
    "engaged = 'engaged'\n",
    "\n",
    "pizza_hit = 'pizza hit'\n",
    "wednesdays = 'wednesdays'\n",
    "burger_kink = 'burger kink'\n",
    "apples_bees = 'apples bees'\n",
    "\n",
    "def recreate_index():\n",
    "    try:\n",
    "        es.indices.delete(yowl)\n",
    "    except:\n",
    "        pass\n",
    "\n",
    "    body = {\n",
    "        \"mappings\": {\n",
    "          restaurant: {\n",
    "            \"properties\": {\n",
    "              location: {\n",
    "                \"type\": \"geo_point\"}}}}}\n",
    "    es.indices.create(yowl, body)\n",
    "\n",
    "def index_docs(docs):\n",
    "    recreate_index()\n",
    "    for doc in docs:\n",
    "        es.index(yowl,restaurant,doc)\n",
    "    es.indices.refresh(yowl)\n",
    "    \n",
    "def search(query):\n",
    "    docs = es.search(yowl, restaurant, query)['hits']['hits']\n",
    "    docs = [dict(doc['_source'],score=doc['_score']) for doc in docs]\n",
    "    pprint(docs)\n",
    "    \n",
    "def assert_in(query, names):\n",
    "    \"\"\"\n",
    "    asserts all named restaurants are in the results\n",
    "    \"\"\"\n",
    "    if isinstance(names,basestring):\n",
    "        names = [names]\n",
    "    result = es.search(yowl,restaurant,body=query)\n",
    "    docs = result['hits']['hits']\n",
    "    names_in_result = [ doc['_source']['name'] for doc in docs]\n",
    "    for name in names:\n",
    "        assert name in names_in_result\n",
    "        \n",
    "def assert_not_in(query, names):\n",
    "    \"\"\"\n",
    "    asserts all named restaurants are in the results\n",
    "    \"\"\"\n",
    "    if isinstance(names,basestring):\n",
    "        names = [names]\n",
    "    result = es.search(yowl,restaurant,body=query)\n",
    "    docs = result['hits']['hits']\n",
    "    names_in_result = [ doc['_source']['name'] for doc in docs]\n",
    "    for name in names:\n",
    "        assert not name in names_in_result\n",
    "        \n",
    "def assert_first(query, name):\n",
    "    \"\"\"\n",
    "    asserts all named restaurants are in the results\n",
    "    \"\"\"\n",
    "    result = es.search(yowl,restaurant,body=query)\n",
    "    docs = result['hits']['hits']\n",
    "    first_name = docs[0]['_source']['name']\n",
    "    assert name == first_name\n"
   ]
  },
  {
   "cell_type": "markdown",
   "metadata": {},
   "source": [
    "### Content"
   ]
  },
  {
   "cell_type": "code",
   "execution_count": 502,
   "metadata": {
    "collapsed": false
   },
   "outputs": [
    {
     "name": "stdout",
     "output_type": "stream",
     "text": [
      "[{u'cuisine_low_q': u'italian pizza',\n",
      "  u'name': u'pizza hit',\n",
      "  'score': 0.065443814},\n",
      " {u'description': u'taco pizza',\n",
      "  u'name': u'apples bees',\n",
      "  'score': 0.0055905404}]\n"
     ]
    }
   ],
   "source": [
    "index_docs([\n",
    "    {\n",
    "        name: pizza_hit,\n",
    "        cuisine_low_q: 'italian pizza',\n",
    "    },\n",
    "    {\n",
    "        name: apples_bees,\n",
    "        description: 'taco pizza',\n",
    "    }\n",
    "])\n",
    "\n",
    "query = {\n",
    "    'query': {\n",
    "        'multi_match': {\n",
    "            'query': 'pizza',\n",
    "            'fields': ['name^10', 'cuisine_high_q^10', 'cuisine_low_q^4', 'menu^2', 'description^1'],\n",
    "            'tie_breaker': 0.3,\n",
    "        },\n",
    "    }\n",
    "}\n",
    "search(query)\n",
    "assert_in(query, [pizza_hit, apples_bees])\n",
    "assert_first(query, pizza_hit)"
   ]
  },
  {
   "cell_type": "markdown",
   "metadata": {},
   "source": [
    "### Customer Preferences"
   ]
  },
  {
   "cell_type": "code",
   "execution_count": 503,
   "metadata": {
    "collapsed": false
   },
   "outputs": [
    {
     "name": "stdout",
     "output_type": "stream",
     "text": [
      "[{u'name': u'apples bees', u'price': u'DDD', u'rating': u'SSS', 'score': 0.0}]\n"
     ]
    }
   ],
   "source": [
    "index_docs([\n",
    "    {\n",
    "        name: burger_kink,\n",
    "        price: 'D',\n",
    "        rating: 'SSS',\n",
    "    },\n",
    "    {\n",
    "        name: apples_bees,\n",
    "        price: 'DDD',\n",
    "        rating: 'SSS',\n",
    "    },\n",
    "    {\n",
    "        name: wednesdays,\n",
    "        price: 'DDD',\n",
    "        rating: 'S',\n",
    "    }\n",
    "])\n",
    "\n",
    "query = { \n",
    "    'query': {\n",
    "        'bool': {\n",
    "            'filter': [\n",
    "                {'match':{\n",
    "                    price: 'DDD',\n",
    "                }},\n",
    "                {'match':{\n",
    "                    rating: 'SSS',\n",
    "                }}\n",
    "            ]\n",
    "        }\n",
    "    }\n",
    "}\n",
    "search(query)\n",
    "assert_in(query, apples_bees)\n",
    "assert_not_in(query, [burger_kink, wednesdays])"
   ]
  },
  {
   "cell_type": "markdown",
   "metadata": {},
   "source": [
    "### Location"
   ]
  },
  {
   "cell_type": "code",
   "execution_count": 504,
   "metadata": {
    "collapsed": false
   },
   "outputs": [
    {
     "name": "stdout",
     "output_type": "stream",
     "text": [
      "[{u'location': {u'lat': 36.15, u'lon': -86.78},\n",
      "  u'name': u'apples bees',\n",
      "  'score': 1.0}]\n"
     ]
    }
   ],
   "source": [
    "index_docs([\n",
    "    {\n",
    "        name: apples_bees,\n",
    "        location: {\n",
    "            'lat': 36.15,\n",
    "            'lon': -86.78\n",
    "        }\n",
    "    },\n",
    "    {\n",
    "        name: burger_kink,\n",
    "        location: {\n",
    "            'lat': 36.40,\n",
    "            'lon': -86.78\n",
    "        }\n",
    "    },\n",
    "    {\n",
    "        name: wednesdays,\n",
    "        location: {\n",
    "            'lat': 36.15,\n",
    "            'lon': -86.90\n",
    "        }\n",
    "    },\n",
    "])\n",
    "\n",
    "query = {\n",
    "    'filter': {\n",
    "        'geo_bounding_box': { \n",
    "            location: {\n",
    "                'top_left': {\n",
    "                    'lat': 36.35,\n",
    "                    'lon': -86.88,\n",
    "                },\n",
    "                'bottom_right': {\n",
    "                    'lat': 36.05,\n",
    "                    'lon': -86.68,\n",
    "                }\n",
    "            } \n",
    "        }\n",
    "    }\n",
    "}\n",
    "search(query)\n",
    "assert_in(query, apples_bees)\n",
    "assert_not_in(query, [burger_kink, wednesdays])"
   ]
  },
  {
   "cell_type": "code",
   "execution_count": 505,
   "metadata": {
    "collapsed": false
   },
   "outputs": [
    {
     "name": "stdout",
     "output_type": "stream",
     "text": [
      "[{u'location': {u'lat': 36.15, u'lon': -86.78},\n",
      "  u'name': u'apples bees',\n",
      "  'score': 0.99794066},\n",
      " {u'location': {u'lat': 36.15, u'lon': -86.9},\n",
      "  u'name': u'wednesdays',\n",
      "  'score': 0.4602034},\n",
      " {u'location': {u'lat': 36.4, u'lon': -86.78},\n",
      "  u'name': u'burger kink',\n",
      "  'score': 0.0057236874}]\n"
     ]
    }
   ],
   "source": [
    "# boost\n",
    "query = {\n",
    "    'query': {\n",
    "        'function_score': {\n",
    "            'functions': [{\n",
    "                'gauss': {\n",
    "                    location: { \n",
    "                        'origin': {\n",
    "                                'lat': 36.154547,\n",
    "                                'lon': -86.782277\n",
    "                        },\n",
    "                        'offset': '0km',\n",
    "                        'scale':  '10km'\n",
    "                    }\n",
    "                }\n",
    "            }\n",
    "        ]}\n",
    "    }\n",
    "}\n",
    "search(query)\n",
    "assert_in(query, [apples_bees, burger_kink, wednesdays])\n",
    "assert_first(query, apples_bees)"
   ]
  },
  {
   "cell_type": "markdown",
   "metadata": {},
   "source": [
    "### Business"
   ]
  },
  {
   "cell_type": "code",
   "execution_count": 506,
   "metadata": {
    "collapsed": false
   },
   "outputs": [
    {
     "name": "stdout",
     "output_type": "stream",
     "text": [
      "[{u'engaged': True,\n",
      "  u'has_discount': True,\n",
      "  u'name': u'apples bees',\n",
      "  u'promoted': True,\n",
      "  'score': 1.1},\n",
      " {u'has_discount': True,\n",
      "  u'name': u'wednesdays',\n",
      "  u'promoted': True,\n",
      "  'score': 1.08},\n",
      " {u'has_discount': True, u'name': u'burger kink', 'score': 1.03}]\n"
     ]
    }
   ],
   "source": [
    "index_docs([\n",
    "    {\n",
    "        name: apples_bees,\n",
    "        has_discount: True,\n",
    "        promoted: True,\n",
    "        engaged: True,\n",
    "    },\n",
    "    {\n",
    "        name: burger_kink,\n",
    "        has_discount: True,\n",
    "    },\n",
    "    {\n",
    "        name: wednesdays,\n",
    "        has_discount: True,\n",
    "        promoted: True,\n",
    "    }\n",
    "])\n",
    "\n",
    "query = {\n",
    "    'query': {\n",
    "        'function_score': {\n",
    "            'functions': [{\n",
    "                'filter': {\n",
    "                    'query_string': {\n",
    "                        'query': 'has_discount:* promoted:* engaged:*'\n",
    "                    }\n",
    "                },\n",
    "                'script_score' : {\n",
    "                    'params': {\n",
    "                       'business_boost': 0.1,\n",
    "                    },\n",
    "                    'script': \"\"\"\n",
    "                        (\n",
    "                            0.3*doc['has_discount'].value +\n",
    "                            0.5*doc['promoted'].value +\n",
    "                            0.2*doc['engaged'].value\n",
    "                        )*business_boost + 1\n",
    "                        \"\"\"\n",
    "                }\n",
    "            }\n",
    "        ]}\n",
    "    }\n",
    "}\n",
    "search(query)\n",
    "assert_first(query, apples_bees)"
   ]
  },
  {
   "cell_type": "markdown",
   "metadata": {},
   "source": [
    "### Combined"
   ]
  },
  {
   "cell_type": "code",
   "execution_count": 507,
   "metadata": {
    "collapsed": false
   },
   "outputs": [
    {
     "name": "stdout",
     "output_type": "stream",
     "text": [
      "[{u'cuisine_low_q': u'italian pizza',\n",
      "  u'description': u'taco pizza',\n",
      "  u'location': {u'lat': 36.15, u'lon': -86.78},\n",
      "  u'name': u'apples bees',\n",
      "  u'price': u'DDD',\n",
      "  u'rating': u'SSS',\n",
      "  'score': 0.023491185}]\n"
     ]
    }
   ],
   "source": [
    "index_docs([\n",
    "    {\n",
    "        name: burger_kink,\n",
    "        location: {\n",
    "            'lat': 36.15,\n",
    "            'lon': -86.78\n",
    "        },\n",
    "        price: 'DDD',\n",
    "        rating: 'SSS',\n",
    "        name: apples_bees,\n",
    "        description: 'taco pizza',\n",
    "        cuisine_low_q: 'italian pizza',\n",
    "    }\n",
    "])\n",
    "\n",
    "query = {\n",
    "    'filter': {\n",
    "        'bool': {\n",
    "            'filter': [\n",
    "                { # location filter\n",
    "                    'geo_bounding_box': { \n",
    "                        location: {\n",
    "                            'top_left': {\n",
    "                                'lat': 36.35,\n",
    "                                'lon': -86.88,\n",
    "                            },\n",
    "                            'bottom_right': {\n",
    "                                'lat': 36.05,\n",
    "                                'lon': -86.68,\n",
    "                            }\n",
    "                        } \n",
    "                    }\n",
    "                },\n",
    "                { # customer preference\n",
    "                    'match':{\n",
    "                        'price': 'DDD',\n",
    "                }},\n",
    "                { # customer preference\n",
    "                    'match':{\n",
    "                        'rating': 'SSS',\n",
    "                }}\n",
    "            ]}\n",
    "    },\n",
    "    'query': {\n",
    "        'function_score': {\n",
    "            'query': { # content\n",
    "                'multi_match': {\n",
    "                    'query': 'pizza',\n",
    "                    'fields': ['name^10', 'cuisine_high_q^10', 'cuisine_low_q^4', 'menu^2', 'description^1'],\n",
    "                },\n",
    "            },\n",
    "            'functions': [\n",
    "                { # business concerns\n",
    "                    'filter': {\n",
    "                        'query_string': {\n",
    "                            'query': 'has_discount:* promoted:* engaged:*'\n",
    "                        }\n",
    "                    },\n",
    "                    'script_score' : {\n",
    "                        'params': {\n",
    "                           'business_boost': 0.1,\n",
    "                        },\n",
    "                        'script': \"\"\"\n",
    "                            (\n",
    "                                0.3*doc['has_discount'].value +\n",
    "                                0.5*doc['promoted'].value +\n",
    "                                0.2*doc['engaged'].value\n",
    "                            )*business_boost + 1\n",
    "                            \"\"\"\n",
    "                    }\n",
    "                },\n",
    "                { # location\n",
    "                    'gauss': {\n",
    "                        'location': { \n",
    "                            'origin': {\n",
    "                                    'lat': 36.154547,\n",
    "                                    'lon': -86.782277\n",
    "                            },\n",
    "                            'offset': '0km',\n",
    "                            'scale':  '10km'\n",
    "                        }\n",
    "                    }\n",
    "                }\n",
    "            ]\n",
    "        }\n",
    "    }\n",
    "}\n",
    "search(query)\n",
    "assert_in(query, apples_bees)"
   ]
  }
 ],
 "metadata": {
  "kernelspec": {
   "display_name": "Python 2",
   "language": "python",
   "name": "python2"
  },
  "language_info": {
   "codemirror_mode": {
    "name": "ipython",
    "version": 2
   },
   "file_extension": ".py",
   "mimetype": "text/x-python",
   "name": "python",
   "nbconvert_exporter": "python",
   "pygments_lexer": "ipython2",
   "version": "2.7.6"
  }
 },
 "nbformat": 4,
 "nbformat_minor": 0
}
