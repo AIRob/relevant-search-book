{
 "cells": [
  {
   "cell_type": "code",
   "execution_count": 5,
   "metadata": {
    "collapsed": true
   },
   "outputs": [],
   "source": [
    "from elasticsearch import Elasticsearch"
   ]
  },
  {
   "cell_type": "code",
   "execution_count": 6,
   "metadata": {
    "collapsed": true
   },
   "outputs": [],
   "source": [
    "es = Elasticsearch()"
   ]
  },
  {
   "cell_type": "code",
   "execution_count": 7,
   "metadata": {
    "collapsed": false
   },
   "outputs": [
    {
     "data": {
      "text/plain": [
       "{u'acknowledged': True}"
      ]
     },
     "execution_count": 7,
     "metadata": {},
     "output_type": "execute_result"
    }
   ],
   "source": [
    "try:\n",
    "    es.indices.delete('yowl')\n",
    "except:\n",
    "    pass\n",
    "\n",
    "body = {\n",
    "    \"mappings\": {\n",
    "      \"restaurants\": {\n",
    "        \"properties\": {\n",
    "          \"location\": {\n",
    "            \"type\": \"geo_point\"}}}}}\n",
    "es.indices.create('yowl', body)"
   ]
  },
  {
   "cell_type": "markdown",
   "metadata": {},
   "source": [
    "### Content"
   ]
  },
  {
   "cell_type": "code",
   "execution_count": 40,
   "metadata": {
    "collapsed": false
   },
   "outputs": [
    {
     "data": {
      "text/plain": [
       "{u'_shards': {u'failed': 0, u'successful': 5, u'total': 5},\n",
       " u'hits': {u'hits': [], u'max_score': None, u'total': 0},\n",
       " u'timed_out': False,\n",
       " u'took': 30}"
      ]
     },
     "execution_count": 40,
     "metadata": {},
     "output_type": "execute_result"
    }
   ],
   "source": [
    "body = {\n",
    "    'query': {\n",
    "        'multi_match': {\n",
    "            'query': 'hello',\n",
    "            'fields': ['name^10', 'cuisine_high_q^10', 'cuisine_low_q^4', 'menu^2', 'description^1'],\n",
    "        },\n",
    "    }\n",
    "}\n",
    "es.search('yowl',body=body)"
   ]
  },
  {
   "cell_type": "markdown",
   "metadata": {},
   "source": [
    "### Customer Preferences"
   ]
  },
  {
   "cell_type": "code",
   "execution_count": 41,
   "metadata": {
    "collapsed": false
   },
   "outputs": [
    {
     "data": {
      "text/plain": [
       "{u'_shards': {u'failed': 0, u'successful': 5, u'total': 5},\n",
       " u'hits': {u'hits': [], u'max_score': None, u'total': 0},\n",
       " u'timed_out': False,\n",
       " u'took': 3}"
      ]
     },
     "execution_count": 41,
     "metadata": {},
     "output_type": "execute_result"
    }
   ],
   "source": [
    "body = { \n",
    "    'query': {\n",
    "        'bool': {\n",
    "            'filter': [\n",
    "                {'terms':{\n",
    "                    'price': ['$$','$$$','$$$$'],\n",
    "                }},\n",
    "                {'terms':{\n",
    "                    'rating': ['☆☆☆','☆☆☆☆'],\n",
    "                }}\n",
    "            ]\n",
    "        }\n",
    "    }\n",
    "}\n",
    "es.search('yowl',body=body)"
   ]
  },
  {
   "cell_type": "markdown",
   "metadata": {},
   "source": [
    "### Location"
   ]
  },
  {
   "cell_type": "code",
   "execution_count": 42,
   "metadata": {
    "collapsed": false
   },
   "outputs": [
    {
     "data": {
      "text/plain": [
       "{u'_shards': {u'failed': 0, u'successful': 5, u'total': 5},\n",
       " u'hits': {u'hits': [{u'_id': u'AVAvpMcz9qTstewm_Jve',\n",
       "    u'_index': u'yowl',\n",
       "    u'_score': 1.0,\n",
       "    u'_source': {u'has_discount': True},\n",
       "    u'_type': u'restaurants'},\n",
       "   {u'_id': u'AVAvqAba9qTstewm_Jvi',\n",
       "    u'_index': u'yowl',\n",
       "    u'_score': 1.0,\n",
       "    u'_source': {u'has_discount': True},\n",
       "    u'_type': u'restaurants'},\n",
       "   {u'_id': u'AVAvqwt99qTstewm_Jvp',\n",
       "    u'_index': u'yowl',\n",
       "    u'_score': 1.0,\n",
       "    u'_source': {u'engaged': True, u'has_discount': True, u'promoted': True},\n",
       "    u'_type': u'restaurants'},\n",
       "   {u'_id': u'AVAvpC1C9qTstewm_Jvc',\n",
       "    u'_index': u'yowl',\n",
       "    u'_score': 1.0,\n",
       "    u'_source': {u'has_discount': True},\n",
       "    u'_type': u'restaurants'},\n",
       "   {u'_id': u'AVAvpSZF9qTstewm_Jvf',\n",
       "    u'_index': u'yowl',\n",
       "    u'_score': 1.0,\n",
       "    u'_source': {u'has_discount': True},\n",
       "    u'_type': u'restaurants'},\n",
       "   {u'_id': u'AVAvqJbn9qTstewm_Jvj',\n",
       "    u'_index': u'yowl',\n",
       "    u'_score': 1.0,\n",
       "    u'_source': {u'has_discount': True},\n",
       "    u'_type': u'restaurants'},\n",
       "   {u'_id': u'AVAvtII_9qTstewm_Jvt',\n",
       "    u'_index': u'yowl',\n",
       "    u'_score': 1.0,\n",
       "    u'_source': {u'engaged': True, u'has_discount': True, u'promoted': True},\n",
       "    u'_type': u'restaurants'},\n",
       "   {u'_id': u'AVAvtW8c9qTstewm_Jvu',\n",
       "    u'_index': u'yowl',\n",
       "    u'_score': 1.0,\n",
       "    u'_source': {u'engaged': True, u'has_discount': True, u'promoted': True},\n",
       "    u'_type': u'restaurants'},\n",
       "   {u'_id': u'AVAvpHcE9qTstewm_Jvd',\n",
       "    u'_index': u'yowl',\n",
       "    u'_score': 1.0,\n",
       "    u'_source': {u'has_discount': True},\n",
       "    u'_type': u'restaurants'},\n",
       "   {u'_id': u'AVAvpWzf9qTstewm_Jvh',\n",
       "    u'_index': u'yowl',\n",
       "    u'_score': 1.0,\n",
       "    u'_source': {u'has_discount': True},\n",
       "    u'_type': u'restaurants'}],\n",
       "  u'max_score': 1.0,\n",
       "  u'total': 21},\n",
       " u'timed_out': False,\n",
       " u'took': 15}"
      ]
     },
     "execution_count": 42,
     "metadata": {},
     "output_type": "execute_result"
    }
   ],
   "source": [
    "body = {\n",
    "    'query': {\n",
    "        'function_score': {\n",
    "            'functions': [{\n",
    "                'gauss': {\n",
    "                    'location': { \n",
    "                        'origin': {\n",
    "                                'lat': 36.154547,\n",
    "                                'lon': -86.782277\n",
    "                        },\n",
    "                        'offset': '0km',\n",
    "                        'scale':  '10km'\n",
    "                    }\n",
    "                }\n",
    "            }\n",
    "        ]}\n",
    "    }\n",
    "}\n",
    "es.search('yowl',body=body)"
   ]
  },
  {
   "cell_type": "markdown",
   "metadata": {},
   "source": [
    "### Business"
   ]
  },
  {
   "cell_type": "code",
   "execution_count": 43,
   "metadata": {
    "collapsed": false
   },
   "outputs": [
    {
     "data": {
      "text/plain": [
       "{u'_shards': {u'failed': 0, u'successful': 5, u'total': 5},\n",
       " u'hits': {u'hits': [{u'_id': u'AVAvqwt99qTstewm_Jvp',\n",
       "    u'_index': u'yowl',\n",
       "    u'_score': 24.0,\n",
       "    u'_source': {u'engaged': True, u'has_discount': True, u'promoted': True},\n",
       "    u'_type': u'restaurants'},\n",
       "   {u'_id': u'AVAvtII_9qTstewm_Jvt',\n",
       "    u'_index': u'yowl',\n",
       "    u'_score': 24.0,\n",
       "    u'_source': {u'engaged': True, u'has_discount': True, u'promoted': True},\n",
       "    u'_type': u'restaurants'},\n",
       "   {u'_id': u'AVAvtW8c9qTstewm_Jvu',\n",
       "    u'_index': u'yowl',\n",
       "    u'_score': 24.0,\n",
       "    u'_source': {u'engaged': True, u'has_discount': True, u'promoted': True},\n",
       "    u'_type': u'restaurants'},\n",
       "   {u'_id': u'AVAvsnr09qTstewm_Jvr',\n",
       "    u'_index': u'yowl',\n",
       "    u'_score': 24.0,\n",
       "    u'_source': {u'engaged': True, u'has_discount': True, u'promoted': True},\n",
       "    u'_type': u'restaurants'},\n",
       "   {u'_id': u'AVAvqg8P9qTstewm_Jvk',\n",
       "    u'_index': u'yowl',\n",
       "    u'_score': 24.0,\n",
       "    u'_source': {u'engaged': True, u'has_discount': True, u'promoted': True},\n",
       "    u'_type': u'restaurants'},\n",
       "   {u'_id': u'AVAvqn_i9qTstewm_Jvn',\n",
       "    u'_index': u'yowl',\n",
       "    u'_score': 24.0,\n",
       "    u'_source': {u'engaged': True, u'has_discount': True, u'promoted': True},\n",
       "    u'_type': u'restaurants'},\n",
       "   {u'_id': u'AVAvslnn9qTstewm_Jvq',\n",
       "    u'_index': u'yowl',\n",
       "    u'_score': 24.0,\n",
       "    u'_source': {u'engaged': True, u'has_discount': True, u'promoted': True},\n",
       "    u'_type': u'restaurants'},\n",
       "   {u'_id': u'AVAvqkno9qTstewm_Jvl',\n",
       "    u'_index': u'yowl',\n",
       "    u'_score': 24.0,\n",
       "    u'_source': {u'engaged': True, u'has_discount': True, u'promoted': True},\n",
       "    u'_type': u'restaurants'},\n",
       "   {u'_id': u'AVAvqlfY9qTstewm_Jvm',\n",
       "    u'_index': u'yowl',\n",
       "    u'_score': 24.0,\n",
       "    u'_source': {u'engaged': True, u'has_discount': True, u'promoted': True},\n",
       "    u'_type': u'restaurants'},\n",
       "   {u'_id': u'AVAvqsQ09qTstewm_Jvo',\n",
       "    u'_index': u'yowl',\n",
       "    u'_score': 24.0,\n",
       "    u'_source': {u'engaged': True, u'has_discount': True, u'promoted': True},\n",
       "    u'_type': u'restaurants'}],\n",
       "  u'max_score': 24.0,\n",
       "  u'total': 21},\n",
       " u'timed_out': False,\n",
       " u'took': 10}"
      ]
     },
     "execution_count": 43,
     "metadata": {},
     "output_type": "execute_result"
    }
   ],
   "source": [
    "body = {\n",
    "    'has_discount': True,\n",
    "    'promoted': True,\n",
    "    'engaged': True,\n",
    "}\n",
    "es.index('yowl','restaurants',body)\n",
    "body = {\n",
    "    'query': {\n",
    "        'function_score': {\n",
    "            'functions': [{\n",
    "                'filter' : {'term':{'has_discount': True}},\n",
    "                'weight': 4\n",
    "            },\n",
    "            {\n",
    "                'filter' : {'term':{'promoted': True}},\n",
    "                'weight': 3\n",
    "            },\n",
    "            {\n",
    "                'filter' : {'term':{'engaged': True}},\n",
    "                'weight': 2\n",
    "            }\n",
    "        ]}\n",
    "    }\n",
    "}\n",
    "es.search('yowl',body=body)"
   ]
  },
  {
   "cell_type": "markdown",
   "metadata": {},
   "source": [
    "### Combined"
   ]
  },
  {
   "cell_type": "code",
   "execution_count": 8,
   "metadata": {
    "collapsed": false
   },
   "outputs": [
    {
     "data": {
      "text/plain": [
       "{u'_shards': {u'failed': 0, u'successful': 5, u'total': 5},\n",
       " u'hits': {u'hits': [], u'max_score': None, u'total': 0},\n",
       " u'timed_out': False,\n",
       " u'took': 4}"
      ]
     },
     "execution_count": 8,
     "metadata": {},
     "output_type": "execute_result"
    }
   ],
   "source": [
    "body = {\n",
    "    'query': {\n",
    "        'function_score': {\n",
    "            'query': {\n",
    "                'multi_match': {\n",
    "                    'query': 'hello',\n",
    "                    'fields': ['name^10', 'cuisine_high_q^10', 'cuisine_low_q^4', 'menu^2', 'description^1'],\n",
    "                }\n",
    "            },   \n",
    "        }\n",
    "    }\n",
    "}\n",
    "es.search('yowl',body=body)"
   ]
  },
  {
   "cell_type": "code",
   "execution_count": null,
   "metadata": {
    "collapsed": true
   },
   "outputs": [],
   "source": []
  },
  {
   "cell_type": "markdown",
   "metadata": {
    "collapsed": true
   },
   "source": [
    "## Scraps"
   ]
  },
  {
   "cell_type": "code",
   "execution_count": 30,
   "metadata": {
    "collapsed": false
   },
   "outputs": [
    {
     "data": {
      "text/plain": [
       "{u'_shards': {u'failed': 0, u'successful': 5, u'total': 5},\n",
       " u'hits': {u'hits': [{u'_id': u'AVAvqg8P9qTstewm_Jvk',\n",
       "    u'_index': u'yowl',\n",
       "    u'_score': 10.5,\n",
       "    u'_source': {u'engaged': True, u'has_discount': True, u'promoted': True},\n",
       "    u'_type': u'restaurants'},\n",
       "   {u'_id': u'AVAvqn_i9qTstewm_Jvn',\n",
       "    u'_index': u'yowl',\n",
       "    u'_score': 10.5,\n",
       "    u'_source': {u'engaged': True, u'has_discount': True, u'promoted': True},\n",
       "    u'_type': u'restaurants'},\n",
       "   {u'_id': u'AVAvqkno9qTstewm_Jvl',\n",
       "    u'_index': u'yowl',\n",
       "    u'_score': 10.5,\n",
       "    u'_source': {u'engaged': True, u'has_discount': True, u'promoted': True},\n",
       "    u'_type': u'restaurants'},\n",
       "   {u'_id': u'AVAvqlfY9qTstewm_Jvm',\n",
       "    u'_index': u'yowl',\n",
       "    u'_score': 10.5,\n",
       "    u'_source': {u'engaged': True, u'has_discount': True, u'promoted': True},\n",
       "    u'_type': u'restaurants'},\n",
       "   {u'_id': u'AVAvqsQ09qTstewm_Jvo',\n",
       "    u'_index': u'yowl',\n",
       "    u'_score': 10.5,\n",
       "    u'_source': {u'engaged': True, u'has_discount': True, u'promoted': True},\n",
       "    u'_type': u'restaurants'},\n",
       "   {u'_id': u'AVAvpMcz9qTstewm_Jve',\n",
       "    u'_index': u'yowl',\n",
       "    u'_score': 2.0,\n",
       "    u'_source': {u'has_discount': True},\n",
       "    u'_type': u'restaurants'},\n",
       "   {u'_id': u'AVAvqAba9qTstewm_Jvi',\n",
       "    u'_index': u'yowl',\n",
       "    u'_score': 2.0,\n",
       "    u'_source': {u'has_discount': True},\n",
       "    u'_type': u'restaurants'},\n",
       "   {u'_id': u'AVAvpC1C9qTstewm_Jvc',\n",
       "    u'_index': u'yowl',\n",
       "    u'_score': 2.0,\n",
       "    u'_source': {u'has_discount': True},\n",
       "    u'_type': u'restaurants'},\n",
       "   {u'_id': u'AVAvpSZF9qTstewm_Jvf',\n",
       "    u'_index': u'yowl',\n",
       "    u'_score': 2.0,\n",
       "    u'_source': {u'has_discount': True},\n",
       "    u'_type': u'restaurants'},\n",
       "   {u'_id': u'AVAvqJbn9qTstewm_Jvj',\n",
       "    u'_index': u'yowl',\n",
       "    u'_score': 2.0,\n",
       "    u'_source': {u'has_discount': True},\n",
       "    u'_type': u'restaurants'}],\n",
       "  u'max_score': 10.5,\n",
       "  u'total': 13},\n",
       " u'timed_out': False,\n",
       " u'took': 56}"
      ]
     },
     "execution_count": 30,
     "metadata": {},
     "output_type": "execute_result"
    }
   ],
   "source": [
    "# possible alternative to the business query\n",
    "body = {\n",
    "    'has_discount': True,\n",
    "    'promoted': True,\n",
    "    'engaged': True,\n",
    "}\n",
    "es.index('yowl','restaurants',body)\n",
    "body = {\n",
    "    'query': {\n",
    "        'function_score': {\n",
    "            'functions': [{\n",
    "                'script_score' : {\n",
    "                    'script' : \"\"\"\n",
    "                        (doc['has_discount'].value*2)+\n",
    "                        (doc['promoted'].value*3.5)+\n",
    "                        (doc['engaged'].value*5)\"\"\"\n",
    "                }\n",
    "            }\n",
    "        ]}\n",
    "    }\n",
    "}\n",
    "es.search('yowl',body=body)"
   ]
  }
 ],
 "metadata": {
  "kernelspec": {
   "display_name": "Python 2",
   "language": "python",
   "name": "python2"
  },
  "language_info": {
   "codemirror_mode": {
    "name": "ipython",
    "version": 2
   },
   "file_extension": ".py",
   "mimetype": "text/x-python",
   "name": "python",
   "nbconvert_exporter": "python",
   "pygments_lexer": "ipython2",
   "version": "2.7.6"
  }
 },
 "nbformat": 4,
 "nbformat_minor": 0
}
