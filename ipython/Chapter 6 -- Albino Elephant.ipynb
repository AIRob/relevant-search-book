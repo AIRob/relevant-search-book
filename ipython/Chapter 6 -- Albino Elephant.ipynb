{
 "metadata": {
  "name": ""
 },
 "nbformat": 3,
 "nbformat_minor": 0,
 "worksheets": [
  {
   "cells": [
    {
     "cell_type": "heading",
     "level": 1,
     "metadata": {},
     "source": [
      "Index two docs"
     ]
    },
    {
     "cell_type": "code",
     "collapsed": false,
     "input": [
      "import requests\n",
      "import json\n",
      "\n",
      "# PUT albinoelphant/docs/1\n",
      "# { \"title\":\"albino\", \"body\": \"elephant\"}\n",
      "# PUT albinoelphant/docs/1\n",
      "# { \"title\":\"elephant\", \"body\": \"elephant\"}\n",
      "\n",
      "\n",
      "\n",
      "resp = requests.put('http://localhost:9200/albinoelephant/docs/1',\n",
      "                    data=json.dumps({'title': 'albino',\n",
      "                                     'body': 'elephant'}))\n",
      "resp = requests.put('http://localhost:9200/albinoelephant/docs/2',\n",
      "                    data=json.dumps({'title': 'elephant',\n",
      "                                     'body': 'elephant'}))\n",
      "print resp.text"
     ],
     "language": "python",
     "metadata": {},
     "outputs": [
      {
       "output_type": "stream",
       "stream": "stdout",
       "text": [
        "{\"_index\":\"albinoelephant\",\"_type\":\"docs\",\"_id\":\"2\",\"_version\":6,\"_shards\":{\"total\":2,\"successful\":1,\"failed\":0},\"created\":false}\n"
       ]
      }
     ],
     "prompt_number": 4
    },
    {
     "cell_type": "heading",
     "level": 1,
     "metadata": {},
     "source": [
      "The Problem"
     ]
    },
    {
     "cell_type": "code",
     "collapsed": false,
     "input": [
      "query = {\n",
      "    'query': {\n",
      "        'multi_match': {\n",
      "            'query': 'albino elephant',\n",
      "            'type': 'most_fields',\n",
      "            'fields': ['title', 'body']\n",
      "        }\n",
      "    }\n",
      "}\n",
      "\n",
      "# Notice how \"title:elephant body:elephant gets same score as title:albino body:elephant\n",
      "# This 'most fields' is equivelant to Lucene's MultiFieldQueryParser \n",
      "# https://lucene.apache.org/core/4_1_0/queryparser/org/apache/lucene/queryparser/classic/MultiFieldQueryParser.html\n",
      "# So Chuck complained and proposed a fix in \n",
      "# https://issues.apache.org/jira/browse/LUCENE-323\n",
      "#GET albinoelephant/docs/_search?pretty=true #C\n",
      "#{\n",
      "#    'query': {\n",
      "#        'multi_match': {\n",
      "#            'query': 'albino elephant',\n",
      "#            'type': 'most_fields',\n",
      "#            'fields': ['title', 'body']\n",
      "#        }}}\n",
      "#\n",
      "#\n",
      "#\n",
      "#\n",
      "resp = requests.get('http://localhost:9200/albinoelephant/docs/_search?pretty=true', data=json.dumps(query))\n",
      "print resp.status_code\n",
      "print resp.text"
     ],
     "language": "python",
     "metadata": {},
     "outputs": [
      {
       "output_type": "stream",
       "stream": "stdout",
       "text": [
        "200\n",
        "{\n",
        "  \"took\" : 75,\n",
        "  \"timed_out\" : false,\n",
        "  \"_shards\" : {\n",
        "    \"total\" : 5,\n",
        "    \"successful\" : 5,\n",
        "    \"failed\" : 0\n",
        "  },\n",
        "  \"hits\" : {\n",
        "    \"total\" : 2,\n",
        "    \"max_score\" : 0.06365098,\n",
        "    \"hits\" : [ {\n",
        "      \"_index\" : \"albinoelephant\",\n",
        "      \"_type\" : \"docs\",\n",
        "      \"_id\" : \"2\",\n",
        "      \"_score\" : 0.06365098,\n",
        "      \"_source\":{\"body\": \"elephant\", \"title\": \"elephant\"}\n",
        "    }, {\n",
        "      \"_index\" : \"albinoelephant\",\n",
        "      \"_type\" : \"docs\",\n",
        "      \"_id\" : \"1\",\n",
        "      \"_score\" : 0.06365098,\n",
        "      \"_source\":{\"body\": \"elephant\", \"title\": \"albino\"}\n",
        "    } ]\n",
        "  }\n",
        "}\n",
        "\n"
       ]
      }
     ],
     "prompt_number": 5
    },
    {
     "cell_type": "heading",
     "level": 1,
     "metadata": {},
     "source": [
      "Title: Albino Elephant"
     ]
    },
    {
     "cell_type": "code",
     "collapsed": false,
     "input": [
      "resp = requests.put('http://localhost:9200/albinoelephant/docs/3',\n",
      "                    data=json.dumps({'title': 'albino elephant',\n",
      "                                     'body': 'elephant'}))\n",
      "print resp.text"
     ],
     "language": "python",
     "metadata": {},
     "outputs": [
      {
       "output_type": "stream",
       "stream": "stdout",
       "text": [
        "{\"_index\":\"albinoelephant\",\"_type\":\"docs\",\"_id\":\"3\",\"_version\":4,\"_shards\":{\"total\":2,\"successful\":1,\"failed\":0},\"created\":false}\n"
       ]
      }
     ],
     "prompt_number": 13
    },
    {
     "cell_type": "code",
     "collapsed": false,
     "input": [
      "query = {\n",
      "    'query': {\n",
      "        'multi_match': {\n",
      "            'query': 'albino elephant',\n",
      "            'type': 'most_fields',\n",
      "            'fields': ['title', 'body']\n",
      "        }\n",
      "    }\n",
      "}\n",
      "\n",
      "# Notice how \"title:elephant body:elephant gets same score as title:albino body:elephant\n",
      "# This 'most fields' is equivelant to Lucene's MultiFieldQueryParser \n",
      "# https://lucene.apache.org/core/4_1_0/queryparser/org/apache/lucene/queryparser/classic/MultiFieldQueryParser.html\n",
      "# So Chuck complained and proposed a fix in \n",
      "# https://issues.apache.org/jira/browse/LUCENE-323\n",
      "#GET albinoelephant/docs/_search?pretty=true #C\n",
      "#{\n",
      "#    'query': {\n",
      "#        'multi_match': {\n",
      "#            'query': 'albino elephant',\n",
      "#            'type': 'most_fields',\n",
      "#            'fields': ['title', 'body']\n",
      "#        }}}\n",
      "#\n",
      "#\n",
      "#\n",
      "#\n",
      "resp = requests.get('http://localhost:9200/albinoelephant/docs/_search?pretty=true', data=json.dumps(query))\n",
      "print resp.status_code\n",
      "print resp.text"
     ],
     "language": "python",
     "metadata": {},
     "outputs": [
      {
       "output_type": "stream",
       "stream": "stdout",
       "text": [
        "200\n",
        "{\n",
        "  \"took\" : 3,\n",
        "  \"timed_out\" : false,\n",
        "  \"_shards\" : {\n",
        "    \"total\" : 5,\n",
        "    \"successful\" : 5,\n",
        "    \"failed\" : 0\n",
        "  },\n",
        "  \"hits\" : {\n",
        "    \"total\" : 3,\n",
        "    \"max_score\" : 0.14550358,\n",
        "    \"hits\" : [ {\n",
        "      \"_index\" : \"albinoelephant\",\n",
        "      \"_type\" : \"docs\",\n",
        "      \"_id\" : \"3\",\n",
        "      \"_score\" : 0.14550358,\n",
        "      \"_source\":{\"body\": \"elephant\", \"title\": \"albino elephant\"}\n",
        "    }, {\n",
        "      \"_index\" : \"albinoelephant\",\n",
        "      \"_type\" : \"docs\",\n",
        "      \"_id\" : \"2\",\n",
        "      \"_score\" : 0.06365098,\n",
        "      \"_source\":{\"body\": \"elephant\", \"title\": \"elephant\"}\n",
        "    }, {\n",
        "      \"_index\" : \"albinoelephant\",\n",
        "      \"_type\" : \"docs\",\n",
        "      \"_id\" : \"1\",\n",
        "      \"_score\" : 0.06365098,\n",
        "      \"_source\":{\"body\": \"elephant\", \"title\": \"albino\"}\n",
        "    } ]\n",
        "  }\n",
        "}\n",
        "\n"
       ]
      }
     ],
     "prompt_number": 14
    },
    {
     "cell_type": "heading",
     "level": 1,
     "metadata": {},
     "source": [
      "Chuck's Solution"
     ]
    },
    {
     "cell_type": "code",
     "collapsed": false,
     "input": [
      "query = {    \n",
      "    \"query\": {\n",
      "        \"query_string\": {\n",
      "            \"fields\" : [\"body\", \"title\"],\n",
      "            \"query\" : \"albino elephant\"\n",
      "        }\n",
      "    }\n",
      "}\n",
      "# This is roughly equiv to Solr's dismax\n",
      "resp = requests.get('http://localhost:9200/albinoelephant/docs/_search?pretty=true', data=json.dumps(query))\n",
      "print resp.status_code\n",
      "print resp.text"
     ],
     "language": "python",
     "metadata": {},
     "outputs": [
      {
       "output_type": "stream",
       "stream": "stdout",
       "text": [
        "200\n",
        "{\n",
        "  \"took\" : 3,\n",
        "  \"timed_out\" : false,\n",
        "  \"_shards\" : {\n",
        "    \"total\" : 5,\n",
        "    \"successful\" : 5,\n",
        "    \"failed\" : 0\n",
        "  },\n",
        "  \"hits\" : {\n",
        "    \"total\" : 2,\n",
        "    \"max_score\" : 0.13316044,\n",
        "    \"hits\" : [ {\n",
        "      \"_index\" : \"albinoelephant\",\n",
        "      \"_type\" : \"docs\",\n",
        "      \"_id\" : \"1\",\n",
        "      \"_score\" : 0.13316044,\n",
        "      \"_source\":{\"body\": \"elephant\", \"title\": \"albino\"}\n",
        "    }, {\n",
        "      \"_index\" : \"albinoelephant\",\n",
        "      \"_type\" : \"docs\",\n",
        "      \"_id\" : \"2\",\n",
        "      \"_score\" : 0.04500804,\n",
        "      \"_source\":{\"body\": \"elephant\", \"title\": \"elephant\"}\n",
        "    } ]\n",
        "  }\n",
        "}\n",
        "\n"
       ]
      }
     ],
     "prompt_number": 40
    },
    {
     "cell_type": "heading",
     "level": 1,
     "metadata": {},
     "source": [
      "Cross Fields?"
     ]
    },
    {
     "cell_type": "code",
     "collapsed": false,
     "input": [
      "query = {\n",
      "    'query': {\n",
      "        'multi_match': {\n",
      "            'query': 'albino elephant',\n",
      "            'type': 'cross_fields',\n",
      "            'fields': ['title', 'body']\n",
      "        }\n",
      "    }\n",
      "}\n",
      "\n",
      "# Notice how \"title:elephant body:elephant gets same score as title:albino body:elephant\n",
      "# This 'most fields' is equivelant to Lucene's MultiFieldQueryParser \n",
      "# https://lucene.apache.org/core/4_1_0/queryparser/org/apache/lucene/queryparser/classic/MultiFieldQueryParser.html\n",
      "# So Chuck complained and proposed a fix in \n",
      "# https://issues.apache.org/jira/browse/LUCENE-323\n",
      "resp = requests.get('http://localhost:9200/albinoelephant/docs/_search?pretty=true', data=json.dumps(query))\n",
      "print resp.status_code\n",
      "print resp.text"
     ],
     "language": "python",
     "metadata": {},
     "outputs": [
      {
       "output_type": "stream",
       "stream": "stdout",
       "text": [
        "200\n",
        "{\n",
        "  \"took\" : 18,\n",
        "  \"timed_out\" : false,\n",
        "  \"_shards\" : {\n",
        "    \"total\" : 5,\n",
        "    \"successful\" : 5,\n",
        "    \"failed\" : 0\n",
        "  },\n",
        "  \"hits\" : {\n",
        "    \"total\" : 2,\n",
        "    \"max_score\" : 0.13316044,\n",
        "    \"hits\" : [ {\n",
        "      \"_index\" : \"albinoelephant\",\n",
        "      \"_type\" : \"docs\",\n",
        "      \"_id\" : \"1\",\n",
        "      \"_score\" : 0.13316044,\n",
        "      \"_source\":{\"body\": \"elephant\", \"title\": \"albino\"}\n",
        "    }, {\n",
        "      \"_index\" : \"albinoelephant\",\n",
        "      \"_type\" : \"docs\",\n",
        "      \"_id\" : \"2\",\n",
        "      \"_score\" : 0.04500804,\n",
        "      \"_source\":{\"body\": \"elephant\", \"title\": \"elephant\"}\n",
        "    } ]\n",
        "  }\n",
        "}\n",
        "\n"
       ]
      }
     ],
     "prompt_number": 41
    },
    {
     "cell_type": "heading",
     "level": 1,
     "metadata": {},
     "source": [
      "An all Field?"
     ]
    },
    {
     "cell_type": "code",
     "collapsed": false,
     "input": [
      "query = {    \n",
      "    \"query\": {\n",
      "        \"match\": {\n",
      "            \"_all\" :  \"albino elephant\"\n",
      "        }\n",
      "    }\n",
      "}\n",
      "# This is roughly equiv to Solr's dismax\n",
      "resp = requests.get('http://localhost:9200/albinoelephant/docs/_search?pretty=true', data=json.dumps(query))\n",
      "print resp.status_code\n",
      "print resp.text"
     ],
     "language": "python",
     "metadata": {},
     "outputs": [
      {
       "output_type": "stream",
       "stream": "stdout",
       "text": [
        "200\n",
        "{\n",
        "  \"took\" : 4,\n",
        "  \"timed_out\" : false,\n",
        "  \"_shards\" : {\n",
        "    \"total\" : 5,\n",
        "    \"successful\" : 5,\n",
        "    \"failed\" : 0\n",
        "  },\n",
        "  \"hits\" : {\n",
        "    \"total\" : 2,\n",
        "    \"max_score\" : 0.2712221,\n",
        "    \"hits\" : [ {\n",
        "      \"_index\" : \"albinoelephant\",\n",
        "      \"_type\" : \"docs\",\n",
        "      \"_id\" : \"1\",\n",
        "      \"_score\" : 0.2712221,\n",
        "      \"_source\":{\"body\": \"elephant\", \"title\": \"albino\"}\n",
        "    }, {\n",
        "      \"_index\" : \"albinoelephant\",\n",
        "      \"_type\" : \"docs\",\n",
        "      \"_id\" : \"2\",\n",
        "      \"_score\" : 0.03978186,\n",
        "      \"_source\":{\"body\": \"elephant\", \"title\": \"elephant\"}\n",
        "    } ]\n",
        "  }\n",
        "}\n",
        "\n"
       ]
      }
     ],
     "prompt_number": 43
    },
    {
     "cell_type": "code",
     "collapsed": false,
     "input": [],
     "language": "python",
     "metadata": {},
     "outputs": []
    }
   ],
   "metadata": {}
  }
 ]
}