{
 "metadata": {
  "name": ""
 },
 "nbformat": 3,
 "nbformat_minor": 0,
 "worksheets": [
  {
   "cells": [
    {
     "cell_type": "heading",
     "level": 1,
     "metadata": {},
     "source": [
      "Boilerplate Code"
     ]
    },
    {
     "cell_type": "code",
     "collapsed": false,
     "input": [
      "import requests\n",
      "import json\n",
      "import os\n",
      "import time\n",
      "\n",
      "# you'll need to have an API key for TMDB\n",
      "# to run these examples,\n",
      "# run export TMDB_API_KEY=<YourAPIKey>\n",
      "tmdb_api_key = os.environ[\"TMDB_API_KEY\"]\n",
      "\n",
      "# Setup tmdb as its own session, caching requests\n",
      "# (we only want to cache tmdb, not elasticsearch)\n",
      "# Get your TMDB API key from\n",
      "#  https://www.themoviedb.org/documentation/api\n",
      "# then in shell do export TMDB_API_KEY=<Your Key>\n",
      "tmdb_api = requests.Session()\n",
      "tmdb_api.params={'api_key': tmdb_api_key}"
     ],
     "language": "python",
     "metadata": {},
     "outputs": [],
     "prompt_number": 20
    },
    {
     "cell_type": "heading",
     "level": 1,
     "metadata": {},
     "source": [
      "Getting a List of Movies"
     ]
    },
    {
     "cell_type": "code",
     "collapsed": false,
     "input": [
      "def movieList(maxMovies=10000):\n",
      "    url = 'https://api.themoviedb.org/3/movie/top_rated'\n",
      "    movieIds = [];\n",
      "    numPages = maxMovies / 20    \n",
      "    for page in range(1, numPages + 1): #A\n",
      "        if page % 10 == 0:\n",
      "            time.sleep(3)  # Sleep for 3 seconds every tenth request\n",
      "        try:\n",
      "            httpResp = tmdb_api.get(url, params={'page': page})  #B\n",
      "        except Exception as e:\n",
      "            print e\n",
      "            print len(movieIds)\n",
      "        jsonResponse = json.loads(httpResp.text) #C\n",
      "        movies = jsonResponse['results']\n",
      "        for movie in movies: #D\n",
      "            movieIds.append(movie['id'])\n",
      "    # Store a file locally\n",
      "    with open('tmdb.json', 'w') as f:\n",
      "        f.write(json.dumps(movieDict))\n",
      "        f.close()\n",
      "    return movieIds #E\n"
     ],
     "language": "python",
     "metadata": {},
     "outputs": [],
     "prompt_number": 21
    },
    {
     "cell_type": "heading",
     "level": 1,
     "metadata": {},
     "source": [
      "Extract Using TMDB"
     ]
    },
    {
     "cell_type": "code",
     "collapsed": false,
     "input": [
      "def extract(movieIds):\n",
      "    movieDict = {}\n",
      "    for movieId in movieIds: #A\n",
      "        url = \"https://api.themoviedb.org/3/movie/%s\" % movieId\n",
      "        httpResp = tmdb_api.get(url) #B\n",
      "        movie = json.loads(httpResp.text) #C\n",
      "        movieDict[movieId] = movie\n",
      "    return movieDict #D"
     ],
     "language": "python",
     "metadata": {},
     "outputs": [],
     "prompt_number": 22
    },
    {
     "cell_type": "heading",
     "level": 1,
     "metadata": {},
     "source": [
      "Reindex to Elasticsearch"
     ]
    },
    {
     "cell_type": "code",
     "collapsed": false,
     "input": [
      "def reindex(analysisSettings={}, mappingSettings={}, movieDict={}):\n",
      "    settings = { #A\n",
      "        \"settings\": {\n",
      "            \"number_of_shards\": 1, #B\n",
      "            \"index\": {\n",
      "                \"analysis\" : analysisSettings, #C\n",
      "            }}}\n",
      "\n",
      "    if mappingSettings:\n",
      "        settings['mappings'] = mappingSettings #C\n",
      "\n",
      "    resp = requests.delete(\"http://localhost:9200/tmdb\") #D\n",
      "    resp = requests.put(\"http://localhost:9200/tmdb\", \n",
      "                        data=json.dumps(settings))\n",
      "\n",
      "    bulkMovies = \"\"\n",
      "    for id, movie in movieDict.iteritems(): \n",
      "        addCmd = {\"index\": {\"_index\": \"tmdb\", #E\n",
      "                            \"_type\": \"movie\",\n",
      "                            \"_id\": movie[\"id\"]}}\n",
      "        bulkMovies += json.dumps(addCmd) + \"\\n\" + json.dumps(movie) + \"\\n\"\n",
      "    resp = requests.post(\"http://localhost:9200/_bulk\", data=bulkMovies)"
     ],
     "language": "python",
     "metadata": {},
     "outputs": [],
     "prompt_number": 23
    },
    {
     "cell_type": "code",
     "collapsed": false,
     "input": [
      "movieIds = movieList()\n",
      "movieDict = extract(movieIds)\n",
      "reindex(movieDict=movieDict)"
     ],
     "language": "python",
     "metadata": {},
     "outputs": [
      {
       "output_type": "stream",
       "stream": "stdout",
       "text": [
        "('Connection aborted.', ResponseNotReady())\n",
        "180\n",
        "('Connection aborted.', ResponseNotReady())"
       ]
      },
      {
       "output_type": "stream",
       "stream": "stdout",
       "text": [
        "\n",
        "380\n",
        "('Connection aborted.', ResponseNotReady())"
       ]
      },
      {
       "output_type": "stream",
       "stream": "stdout",
       "text": [
        "\n",
        "540\n",
        "('Connection aborted.', ResponseNotReady())"
       ]
      },
      {
       "output_type": "stream",
       "stream": "stdout",
       "text": [
        "\n",
        "980\n",
        "('Connection aborted.', ResponseNotReady())"
       ]
      },
      {
       "output_type": "stream",
       "stream": "stdout",
       "text": [
        "\n",
        "1180\n",
        "('Connection aborted.', ResponseNotReady())"
       ]
      },
      {
       "output_type": "stream",
       "stream": "stdout",
       "text": [
        "\n",
        "1220\n",
        "('Connection aborted.', ResponseNotReady())"
       ]
      },
      {
       "output_type": "stream",
       "stream": "stdout",
       "text": [
        "\n",
        "1540\n",
        "('Connection aborted.', ResponseNotReady())"
       ]
      },
      {
       "output_type": "stream",
       "stream": "stdout",
       "text": [
        "\n",
        "1620\n",
        "('Connection aborted.', ResponseNotReady())"
       ]
      },
      {
       "output_type": "stream",
       "stream": "stdout",
       "text": [
        "\n",
        "2060\n",
        "('Connection aborted.', ResponseNotReady())"
       ]
      },
      {
       "output_type": "stream",
       "stream": "stdout",
       "text": [
        "\n",
        "2200\n",
        "('Connection aborted.', ResponseNotReady())"
       ]
      },
      {
       "output_type": "stream",
       "stream": "stdout",
       "text": [
        "\n",
        "2240\n",
        "('Connection aborted.', ResponseNotReady())"
       ]
      },
      {
       "output_type": "stream",
       "stream": "stdout",
       "text": [
        "\n",
        "2840\n",
        "('Connection aborted.', ResponseNotReady())"
       ]
      },
      {
       "output_type": "stream",
       "stream": "stdout",
       "text": [
        "\n",
        "3220\n",
        "('Connection aborted.', ResponseNotReady())"
       ]
      },
      {
       "output_type": "stream",
       "stream": "stdout",
       "text": [
        "\n",
        "3520\n",
        "('Connection aborted.', ResponseNotReady())"
       ]
      },
      {
       "ename": "NameError",
       "evalue": "global name 'movieDict' is not defined",
       "output_type": "pyerr",
       "traceback": [
        "\u001b[0;31m---------------------------------------------------------------------------\u001b[0m\n\u001b[0;31mNameError\u001b[0m                                 Traceback (most recent call last)",
        "\u001b[0;32m<ipython-input-24-ea1f7da495f5>\u001b[0m in \u001b[0;36m<module>\u001b[0;34m()\u001b[0m\n\u001b[0;32m----> 1\u001b[0;31m \u001b[0mmovieIds\u001b[0m \u001b[0;34m=\u001b[0m \u001b[0mmovieList\u001b[0m\u001b[0;34m(\u001b[0m\u001b[0;34m)\u001b[0m\u001b[0;34m\u001b[0m\u001b[0m\n\u001b[0m\u001b[1;32m      2\u001b[0m \u001b[0mmovieDict\u001b[0m \u001b[0;34m=\u001b[0m \u001b[0mextract\u001b[0m\u001b[0;34m(\u001b[0m\u001b[0mmovieIds\u001b[0m\u001b[0;34m)\u001b[0m\u001b[0;34m\u001b[0m\u001b[0m\n\u001b[1;32m      3\u001b[0m \u001b[0mreindex\u001b[0m\u001b[0;34m(\u001b[0m\u001b[0mmovieDict\u001b[0m\u001b[0;34m=\u001b[0m\u001b[0mmovieDict\u001b[0m\u001b[0;34m)\u001b[0m\u001b[0;34m\u001b[0m\u001b[0m\n",
        "\u001b[0;32m<ipython-input-21-006fa179eb58>\u001b[0m in \u001b[0;36mmovieList\u001b[0;34m(maxMovies)\u001b[0m\n\u001b[1;32m     17\u001b[0m     \u001b[0;31m# Store a file locally\u001b[0m\u001b[0;34m\u001b[0m\u001b[0;34m\u001b[0m\u001b[0m\n\u001b[1;32m     18\u001b[0m     \u001b[0;32mwith\u001b[0m \u001b[0mopen\u001b[0m\u001b[0;34m(\u001b[0m\u001b[0;34m'tmdb.json'\u001b[0m\u001b[0;34m,\u001b[0m \u001b[0;34m'w'\u001b[0m\u001b[0;34m)\u001b[0m \u001b[0;32mas\u001b[0m \u001b[0mf\u001b[0m\u001b[0;34m:\u001b[0m\u001b[0;34m\u001b[0m\u001b[0m\n\u001b[0;32m---> 19\u001b[0;31m         \u001b[0mf\u001b[0m\u001b[0;34m.\u001b[0m\u001b[0mwrite\u001b[0m\u001b[0;34m(\u001b[0m\u001b[0mjson\u001b[0m\u001b[0;34m.\u001b[0m\u001b[0mdumps\u001b[0m\u001b[0;34m(\u001b[0m\u001b[0mmovieDict\u001b[0m\u001b[0;34m)\u001b[0m\u001b[0;34m)\u001b[0m\u001b[0;34m\u001b[0m\u001b[0m\n\u001b[0m\u001b[1;32m     20\u001b[0m         \u001b[0mf\u001b[0m\u001b[0;34m.\u001b[0m\u001b[0mclose\u001b[0m\u001b[0;34m(\u001b[0m\u001b[0;34m)\u001b[0m\u001b[0;34m\u001b[0m\u001b[0m\n\u001b[1;32m     21\u001b[0m     \u001b[0;32mreturn\u001b[0m \u001b[0mmovieIds\u001b[0m \u001b[0;31m#E\u001b[0m\u001b[0;34m\u001b[0m\u001b[0m\n",
        "\u001b[0;31mNameError\u001b[0m: global name 'movieDict' is not defined"
       ]
      },
      {
       "output_type": "stream",
       "stream": "stdout",
       "text": [
        "\n",
        "3720\n"
       ]
      }
     ],
     "prompt_number": 24
    },
    {
     "cell_type": "code",
     "collapsed": false,
     "input": [],
     "language": "python",
     "metadata": {},
     "outputs": []
    }
   ],
   "metadata": {}
  }
 ]
}